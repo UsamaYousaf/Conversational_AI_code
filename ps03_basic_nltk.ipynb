{
  "nbformat": 4,
  "nbformat_minor": 0,
  "metadata": {
    "colab": {
      "provenance": [],
      "toc_visible": true,
      "authorship_tag": "ABX9TyNxoYe5P+rUeP0Rzhlmppwo",
      "include_colab_link": true
    },
    "kernelspec": {
      "name": "python3",
      "display_name": "Python 3"
    },
    "language_info": {
      "name": "python"
    }
  },
  "cells": [
    {
      "cell_type": "markdown",
      "metadata": {
        "id": "view-in-github",
        "colab_type": "text"
      },
      "source": [
        "<a href=\"https://colab.research.google.com/github/UsamaYousaf/Conversational_AI_code/blob/main/basic_nltk.ipynb\" target=\"_parent\"><img src=\"https://colab.research.google.com/assets/colab-badge.svg\" alt=\"Open In Colab\"/></a>"
      ]
    },
    {
      "cell_type": "markdown",
      "source": [
        "# Initialization"
      ],
      "metadata": {
        "id": "vM8moYAR0rp7"
      }
    },
    {
      "cell_type": "code",
      "execution_count": null,
      "metadata": {
        "colab": {
          "base_uri": "https://localhost:8080/"
        },
        "id": "QWzdksR60jHp",
        "outputId": "d3d81592-fe59-47f2-c30e-d5d4ffd43aee"
      },
      "outputs": [
        {
          "output_type": "stream",
          "name": "stdout",
          "text": [
            "Requirement already satisfied: nltk in /usr/local/lib/python3.10/dist-packages (3.8.1)\n",
            "Requirement already satisfied: click in /usr/local/lib/python3.10/dist-packages (from nltk) (8.1.7)\n",
            "Requirement already satisfied: joblib in /usr/local/lib/python3.10/dist-packages (from nltk) (1.4.2)\n",
            "Requirement already satisfied: regex>=2021.8.3 in /usr/local/lib/python3.10/dist-packages (from nltk) (2024.9.11)\n",
            "Requirement already satisfied: tqdm in /usr/local/lib/python3.10/dist-packages (from nltk) (4.66.5)\n"
          ]
        }
      ],
      "source": [
        "!pip install nltk"
      ]
    },
    {
      "cell_type": "code",
      "source": [
        "import nltk\n",
        "from nltk.tokenize import word_tokenize\n",
        "from nltk.probability import FreqDist"
      ],
      "metadata": {
        "id": "iFEV1qec0wxA"
      },
      "execution_count": null,
      "outputs": []
    },
    {
      "cell_type": "markdown",
      "source": [
        "# Tokenization"
      ],
      "metadata": {
        "id": "OF0BcrMV1QmN"
      }
    },
    {
      "cell_type": "code",
      "source": [
        "nltk.download('punkt')\n",
        "text = \"Machine learning is a fascinating field of artificial intelligence. It allows systems to learn from data and improve over time. Machine learning is widely used in various applications, from self-driving cars to recommendation engines. Understanding its principles is essential for advancing technology.\"\n",
        "tokens = word_tokenize(text)"
      ],
      "metadata": {
        "colab": {
          "base_uri": "https://localhost:8080/"
        },
        "id": "njlEorgK08ee",
        "outputId": "c471634c-6bec-45a8-8641-da44e70fb7a5"
      },
      "execution_count": null,
      "outputs": [
        {
          "output_type": "stream",
          "name": "stderr",
          "text": [
            "[nltk_data] Downloading package punkt to /root/nltk_data...\n",
            "[nltk_data]   Package punkt is already up-to-date!\n"
          ]
        }
      ]
    },
    {
      "cell_type": "markdown",
      "source": [
        "# Output"
      ],
      "metadata": {
        "id": "zdp-2kyU1ZMe"
      }
    },
    {
      "cell_type": "code",
      "source": [
        "print(\"Tokens:\", tokens)\n",
        "print(\"Total number of tokens:\", len(tokens))\n",
        "freq_dist = FreqDist(tokens)\n",
        "print(\"Frequency of each token:\")\n",
        "for token, frequency in freq_dist.items():\n",
        "    print(f\"{token}: {frequency}\")"
      ],
      "metadata": {
        "colab": {
          "base_uri": "https://localhost:8080/"
        },
        "id": "6_dVJOxL1cT7",
        "outputId": "2f4eeb8b-d023-4700-9d82-d5ca09c034cc"
      },
      "execution_count": null,
      "outputs": [
        {
          "output_type": "stream",
          "name": "stdout",
          "text": [
            "Tokens: ['Machine', 'learning', 'is', 'a', 'fascinating', 'field', 'of', 'artificial', 'intelligence', '.', 'It', 'allows', 'systems', 'to', 'learn', 'from', 'data', 'and', 'improve', 'over', 'time', '.', 'Machine', 'learning', 'is', 'widely', 'used', 'in', 'various', 'applications', ',', 'from', 'self-driving', 'cars', 'to', 'recommendation', 'engines', '.', 'Understanding', 'its', 'principles', 'is', 'essential', 'for', 'advancing', 'technology', '.']\n",
            "Total number of tokens: 47\n",
            "Frequency of each token:\n",
            "Machine: 2\n",
            "learning: 2\n",
            "is: 3\n",
            "a: 1\n",
            "fascinating: 1\n",
            "field: 1\n",
            "of: 1\n",
            "artificial: 1\n",
            "intelligence: 1\n",
            ".: 4\n",
            "It: 1\n",
            "allows: 1\n",
            "systems: 1\n",
            "to: 2\n",
            "learn: 1\n",
            "from: 2\n",
            "data: 1\n",
            "and: 1\n",
            "improve: 1\n",
            "over: 1\n",
            "time: 1\n",
            "widely: 1\n",
            "used: 1\n",
            "in: 1\n",
            "various: 1\n",
            "applications: 1\n",
            ",: 1\n",
            "self-driving: 1\n",
            "cars: 1\n",
            "recommendation: 1\n",
            "engines: 1\n",
            "Understanding: 1\n",
            "its: 1\n",
            "principles: 1\n",
            "essential: 1\n",
            "for: 1\n",
            "advancing: 1\n",
            "technology: 1\n"
          ]
        }
      ]
    }
  ]
}
